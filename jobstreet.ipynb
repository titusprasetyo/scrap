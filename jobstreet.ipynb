{
 "cells": [
  {
   "cell_type": "code",
   "execution_count": 123,
   "metadata": {},
   "outputs": [],
   "source": [
    "import requests\n",
    "from bs4 import BeautifulSoup\n",
    "import pandas as pd\n",
    "import sqlite3"
   ]
  },
  {
   "cell_type": "code",
   "execution_count": 124,
   "metadata": {},
   "outputs": [],
   "source": [
    "def get_web_content(url):\n",
    "    payload = {}\n",
    "    headers = {\n",
    "        'Accept': '*/*',\n",
    "        'User-Agent': 'Mozilla/5.0 (Macintosh; Intel Mac OS X 10_15_3) AppleWebKit/537.36 (KHTML, like Gecko) Chrome/79.0.3945.130 Safari/537.36'\n",
    "    }\n",
    "    response = requests.request(\"GET\", url, headers=headers, data = payload)\n",
    "    return response.text.encode('utf8')\n",
    "\n",
    "def get_js_head(links):\n",
    "    data = []\n",
    "    for link in links:\n",
    "        data_jobid = link.get(\"data-job-id\")\n",
    "        data_id = link.get(\"id\")\n",
    "        data_href = link.get(\"href\")\n",
    "        data_text = link.text.replace(\"\\n\",\"\")\n",
    "        if data_jobid is not None:\n",
    "            row = [data_jobid, data_text,data_href]\n",
    "            data.append(row)\n",
    "    return data\n"
   ]
  },
  {
   "cell_type": "code",
   "execution_count": 125,
   "metadata": {},
   "outputs": [],
   "source": [
    "# get detail vacancy\n",
    "def get_detail_vacancy(jobid):\n",
    "    data = []\n",
    "    url = \"https://www.jobstreet.co.id/id/job/\"+jobid\n",
    "    resp = get_web_content(url)\n",
    "    soup = BeautifulSoup(resp, \"lxml\")\n",
    "    divs = soup.find_all(\"div\")\n",
    "    company_overview_all = \"\"\n",
    "    job_description = \"\"\n",
    "    company_name = \"\"\n",
    "    position = \"\"\n",
    "    for div in divs:\n",
    "        panel = div.get(\"id\") \n",
    "        if panel == \"company_overview_all\":\n",
    "            company_overview_all = div.text.strip()\n",
    "        if panel == \"job_description\":\n",
    "            job_description = div.text.strip()\n",
    "        if panel == \"company_name\":\n",
    "            company_name = div.text.strip()\n",
    "\n",
    "    h1s = soup.find_all(\"h1\")\n",
    "    for h1 in h1s:\n",
    "        position_title = h1.get(\"id\")\n",
    "        if position_title == \"position_title\":\n",
    "            position = h1.text.strip()\n",
    "\n",
    "    row = [jobid, position, company_name, company_overview_all, job_description]\n",
    "    return row"
   ]
  },
  {
   "cell_type": "code",
   "execution_count": 129,
   "metadata": {},
   "outputs": [],
   "source": [
    "url = \"https://www.jobstreet.co.id/id/job-search/job-vacancy.php\"\n",
    "resp = get_web_content(url)\n",
    "\n",
    "soup = BeautifulSoup(resp, \"lxml\")\n",
    "links = soup.find_all(\"a\")\n",
    "data = get_js_head(links)\n",
    "final = []\n",
    "for d in data:\n",
    "    detail = get_detail_vacancy(d[0])\n",
    "    final.append(detail)\n",
    "\n",
    "# print(final)\n",
    "df = pd.DataFrame(final,columns=['jobid', 'position', 'company_name', 'company_overview_all', 'job_description'])\n",
    "conn = sqlite3.connect('scrap.js.db')\n",
    "df.to_sql(\"JS_DETAIL\", conn, if_exists='replace', index = False)\n"
   ]
  },
  {
   "cell_type": "code",
   "execution_count": null,
   "metadata": {},
   "outputs": [],
   "source": []
  }
 ],
 "metadata": {
  "kernelspec": {
   "display_name": "Python 3",
   "language": "python",
   "name": "python3"
  },
  "language_info": {
   "codemirror_mode": {
    "name": "ipython",
    "version": 3
   },
   "file_extension": ".py",
   "mimetype": "text/x-python",
   "name": "python",
   "nbconvert_exporter": "python",
   "pygments_lexer": "ipython3",
   "version": "3.7.3-final"
  }
 },
 "nbformat": 4,
 "nbformat_minor": 2
}