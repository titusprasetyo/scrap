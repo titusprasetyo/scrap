{
 "cells": [
  {
   "cell_type": "code",
   "execution_count": 17,
   "metadata": {},
   "outputs": [],
   "source": [
    "import requests\n",
    "import urllib.request\n",
    "import time\n",
    "from bs4 import BeautifulSoup\n",
    "import pandas as pd\n"
   ]
  },
  {
   "cell_type": "code",
   "execution_count": 18,
   "metadata": {},
   "outputs": [],
   "source": [
    "url = \"https://www.tokopedia.com/gudangjaket/kaos-pria-kaos-distro-premium-jalanin-black-l\"\n",
    "payload = {}\n",
    "headers = {\n",
    "    'Accept': '*/*',\n",
    "    'User-Agent': 'Mozilla/5.0 (Macintosh; Intel Mac OS X 10_15_3) AppleWebKit/537.36 (KHTML, like Gecko) Chrome/79.0.3945.130 Safari/537.36'\n",
    "}\n",
    "response = requests.request(\"GET\", url, headers=headers, data = payload)"
   ]
  },
  {
   "cell_type": "code",
   "execution_count": 19,
   "metadata": {
    "tags": [
     "outputPrepend"
    ]
   },
   "outputs": [],
   "source": [
    "soup = BeautifulSoup(response.text, \"lxml\")"
   ]
  },
  {
   "cell_type": "code",
   "execution_count": 21,
   "metadata": {
    "tags": [
     "outputPrepend"
    ]
   },
   "outputs": [
    {
     "output_type": "stream",
     "name": "stdout",
     "text": "[['KAOS PRIA / KAOS DISTRO PREMIUM - jalanin black, L', 'Rp40.000', '', '200gr']]\n"
    }
   ],
   "source": [
    "data = []\n",
    "\n",
    "links = soup.find_all(\"h1\")\n",
    "for link in links:\n",
    "    data_testid = link.get(\"data-testid\")\n",
    "    if data_testid == \"lblPDPDetailProductName\":\n",
    "        product_name = link.text\n",
    "\n",
    "links = soup.find_all(\"h3\")\n",
    "for link in links:\n",
    "    data_testid = link.get(\"data-testid\")\n",
    "    if data_testid == \"lblPDPDetailProductPrice\":\n",
    "        product_price = link.text\n",
    "\n",
    "links = soup.find_all(\"img\")\n",
    "for link in links:\n",
    "    data_testid = link.get(\"alt\")\n",
    "    if data_testid == \"product image\":\n",
    "        product_image = link.text\n",
    "\n",
    "links = soup.find_all(\"p\")\n",
    "for link in links:\n",
    "    data_testid = link.get(\"data-testid\")\n",
    "    # if data_testid == \"lblPDPDeskripsiProduk\":\n",
    "    #     product_desc = link.text\n",
    "    if data_testid == \"PDPDetailWeightValue\":\n",
    "        product_weight = link.text\n",
    "\n",
    "row = [product_name, product_price, product_image, product_weight]\n",
    "data.append(row)\n",
    "print(data)"
   ]
  },
  {
   "cell_type": "code",
   "execution_count": null,
   "metadata": {},
   "outputs": [],
   "source": [
    "df = pd.DataFrame(data,columns=['href'])\n",
    "# df.to_csv(r'toped.csv', index = False)\n",
    "df.head"
   ]
  },
  {
   "cell_type": "code",
   "execution_count": null,
   "metadata": {},
   "outputs": [],
   "source": []
  }
 ],
 "metadata": {
  "language_info": {
   "codemirror_mode": {
    "name": "ipython",
    "version": 3
   },
   "file_extension": ".py",
   "mimetype": "text/x-python",
   "name": "python",
   "nbconvert_exporter": "python",
   "pygments_lexer": "ipython3",
   "version": "3.7.3-final"
  },
  "orig_nbformat": 2,
  "kernelspec": {
   "name": "python37364bitac469b4c62eb462ab68029eeaa5b1d97",
   "display_name": "Python 3.7.3 64-bit"
  }
 },
 "nbformat": 4,
 "nbformat_minor": 2
}