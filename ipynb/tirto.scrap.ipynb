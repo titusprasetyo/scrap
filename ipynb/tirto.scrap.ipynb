{
 "cells": [
  {
   "cell_type": "code",
   "execution_count": 2,
   "metadata": {},
   "outputs": [],
   "source": [
    "import requests\n",
    "import urllib.request\n",
    "import time\n",
    "from bs4 import BeautifulSoup\n",
    "import pandas as pd\n",
    "import sqlite3"
   ]
  },
  {
   "cell_type": "code",
   "execution_count": 3,
   "metadata": {},
   "outputs": [],
   "source": [
    "url = \"https://www.detik.com\"\n",
    "response = requests.get(url)\n",
    "conn = sqlite3.connect('scrap.news.db')"
   ]
  },
  {
   "cell_type": "code",
   "execution_count": 4,
   "metadata": {},
   "outputs": [],
   "source": [
    "soup = BeautifulSoup(response.text, \"lxml\")\n",
    "links = soup.find_all(\"a\")\n",
    "data = []"
   ]
  },
  {
   "cell_type": "code",
   "execution_count": 5,
   "metadata": {},
   "outputs": [],
   "source": [
    "for link in links:\n",
    "    title = \"\"\n",
    "    data_label = link.get(\"data-label\")\n",
    "    data_text = link.text.replace(\"\\n\",\"\")\n",
    "    data_href = link.get(\"href\")\n",
    "\n",
    "    if link.find(\"img\") != None:\n",
    "        title = link.find(\"img\").get(\"title\")\n",
    "\n",
    "    # if link.find(\"h3\") != None:\n",
    "    #     title = link.find(\"h3\").text\n",
    "\n",
    "    if title == None or title == \"\":\n",
    "        title = data_text\n",
    "\n",
    "    row = [data_label,title,data_href]\n",
    "    data.append(row)\n",
    "    response_c = None\n",
    "    try:\n",
    "        respose_c = requests.get(data_href)\n",
    "    except Exception as err:\n",
    "        response_c = None\n",
    "    \n",
    "    if response_c != None:\n",
    "        soupc = BeautifulSoup(response_c.text, \"lxml\")\n",
    "        links_c = soupc.find_all(\"a\")\n",
    "        for l in links_c:\n",
    "            row = [l.get(\"data-label\"),l.text.replace(\"\\n\",\"\"),l.get(\"href\")]\n",
    "            data.append(row)\n",
    "\n",
    "df = pd.DataFrame(data,columns=['label','text','href'])\n",
    "df.to_sql('DETIK', conn, if_exists='replace', index = False)\n"
   ]
  },
  {
   "cell_type": "code",
   "execution_count": null,
   "metadata": {},
   "outputs": [],
   "source": []
  }
 ],
 "metadata": {
  "kernelspec": {
   "display_name": "Python 3",
   "language": "python",
   "name": "python3"
  },
  "language_info": {
   "codemirror_mode": {
    "name": "ipython",
    "version": 3
   },
   "file_extension": ".py",
   "mimetype": "text/x-python",
   "name": "python",
   "nbconvert_exporter": "python",
   "pygments_lexer": "ipython3",
   "version": "3.7.3"
  }
 },
 "nbformat": 4,
 "nbformat_minor": 2
}