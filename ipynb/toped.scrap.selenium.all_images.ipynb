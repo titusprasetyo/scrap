{
 "cells": [
  {
   "cell_type": "code",
   "execution_count": 1,
   "metadata": {},
   "outputs": [],
   "source": [
    "import os\n",
    "from selenium import webdriver\n",
    "from selenium.webdriver.common.keys import Keys\n",
    "from bs4 import BeautifulSoup\n",
    "import pandas as pd\n",
    "import csv\n",
    "import time\n",
    "import sqlite3\n",
    "from selenium.webdriver.support.ui import WebDriverWait\n",
    "from selenium.webdriver.support import expected_conditions as EC\n",
    "from selenium.common.exceptions import TimeoutException"
   ]
  },
  {
   "cell_type": "code",
   "execution_count": 4,
   "metadata": {},
   "outputs": [
    {
     "name": "stdout",
     "output_type": "stream",
     "text": [
      "['JAKET OUTDOOR WATERPROOF HOODIE BISA DILEPAS', 'https://ecs7.tokopedia.net/img/cache/700/product-1/2020/4/18/1618811/1618811_20c23047-55c3-4d44-9e6d-887f89dc32c9_1080_1080.webp', 'https://ecs7.tokopedia.net/img/cache/700/product-1/2019/11/28/1618811/1618811_9bb444f7-9341-4cae-b1e8-94e7b5934c2a_1145_1145.webp', 'https://ecs7.tokopedia.net/img/cache/700/product-1/2020/1/7/1618811/1618811_eed2a8f2-f9ed-4ec2-9327-353b9cf6f878_1080_1080.webp', 'https://ecs7.tokopedia.net/img/cache/700/product-1/2020/5/5/1618811/1618811_65f65b88-ba93-48af-85b0-dc34c083cbbf_1280_1280.webp', 'https://ecs7.tokopedia.net/img/cache/700/product-1/2020/5/5/1618811/1618811_7a5eabcd-833f-463b-a263-947f34542c59_1280_1280.webp']\n"
     ]
    }
   ],
   "source": [
    "#grab detail\n",
    "conn = sqlite3.connect('scrap.gudangjaket.db')\n",
    "cur = conn.cursor()\n",
    "cur.execute('select a.href, a.name from GUDANGJAKET_MASTER a left join GUDANGJAKET_IMAGES b on a.name=b.name where b.name is null limit 1')\n",
    "reader = cur.fetchall()\n",
    "data_images = []\n",
    "# data_desc = []\n",
    "# data_weight = []\n",
    "# data_variant = []\n",
    "for line in reader:\n",
    "    chrome_options = webdriver.ChromeOptions()\n",
    "    prefs = {\"profile.default_content_setting_values.notifications\" : 2}\n",
    "    chrome_options.add_experimental_option(\"prefs\",prefs)\n",
    "    driver = webdriver.Chrome('chromedriver',options=chrome_options)\n",
    "    driver.implicitly_wait(30)\n",
    "    driver.maximize_window()\n",
    "    driver.get(line[0])\n",
    "    elems = driver.find_elements_by_xpath('//div[@data-testid=\"PDPImageThumbnail\"]')\n",
    "    counting = 0\n",
    "    product_image = []\n",
    "    for elem in elems:\n",
    "        counting = counting + 1\n",
    "        elem.click()\n",
    "        time.sleep(3)\n",
    "        elems = driver.find_element_by_xpath('//img[@alt=\"product image\"]')\n",
    "        product_image.append(elems.get_attribute(\"src\"))\n",
    "        if counting == 5:\n",
    "            break\n",
    "    driver.quit()\n",
    "    time.sleep(2)\n",
    "    rows = [line[1],product_image[0],product_image[1],product_image[2],product_image[3],product_image[4]]\n",
    "    data_images.append(rows)\n",
    "\n",
    "#insert images\n",
    "df = pd.DataFrame(data_images,columns=['name','images1','images2','images3','images4','images5'])\n",
    "conn = sqlite3.connect('scrap.gudangjaket.db')\n",
    "df.to_sql('GUDANGJAKET_IMAGES', conn, if_exists='replace', index = False)\n",
    "\n",
    "# #insert description\n",
    "# df = pd.DataFrame(data_desc,columns=['name','images'])\n",
    "# conn = sqlite3.connect('scrap.gudangjaket.db')\n",
    "# df.to_sql('GUDANGJAKET_DESC', conn, if_exists='append', index = False)\n",
    "\n",
    "# #insert weight\n",
    "# df = pd.DataFrame(data_weight,columns=['name','images'])\n",
    "# conn = sqlite3.connect('scrap.gudangjaket.db')\n",
    "# df.to_sql('GUDANGJAKET_WEIGHT', conn, if_exists='append', index = False)\n",
    "\n",
    "# #insert variant\n",
    "# df = pd.DataFrame(data_variant,columns=['name','images'])\n",
    "# conn = sqlite3.connect('scrap.gudangjaket.db')\n",
    "# df.to_sql('GUDANGJAKET_VARIANT', conn, if_exists='append', index = False)\n"
   ]
  },
  {
   "cell_type": "code",
   "execution_count": null,
   "metadata": {},
   "outputs": [],
   "source": []
  }
 ],
 "metadata": {
  "kernelspec": {
   "display_name": "Python 3.7.3 64-bit",
   "language": "python",
   "name": "python37364bitac469b4c62eb462ab68029eeaa5b1d97"
  },
  "language_info": {
   "codemirror_mode": {
    "name": "ipython",
    "version": 3
   },
   "file_extension": ".py",
   "mimetype": "text/x-python",
   "name": "python",
   "nbconvert_exporter": "python",
   "pygments_lexer": "ipython3",
   "version": "3.7.3"
  }
 },
 "nbformat": 4,
 "nbformat_minor": 2
}
